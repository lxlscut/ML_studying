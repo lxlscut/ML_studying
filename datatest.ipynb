{
 "cells": [
  {
   "cell_type": "code",
   "execution_count": 52,
   "metadata": {
    "collapsed": true,
    "pycharm": {
     "is_executing": false
    }
   },
   "outputs": [],
   "source": [
    "import numpy as np\n",
    "from sklearn import datasets"
   ]
  },
  {
   "cell_type": "code",
   "execution_count": 53,
   "outputs": [
    {
     "data": {
      "text/plain": "array(['CRIM', 'ZN', 'INDUS', 'CHAS', 'NOX', 'RM', 'AGE', 'DIS', 'RAD',\n       'TAX', 'PTRATIO', 'B', 'LSTAT'], dtype='<U7')"
     },
     "metadata": {},
     "output_type": "execute_result",
     "execution_count": 53
    }
   ],
   "source": [
    "from sklearn.model_selection import train_test_split\n",
    "boston = datasets.load_boston()\n",
    "boston.feature_names\n"
   ],
   "metadata": {
    "collapsed": false,
    "pycharm": {
     "name": "#%%\n",
     "is_executing": false
    }
   }
  },
  {
   "cell_type": "code",
   "execution_count": 54,
   "outputs": [
    {
     "data": {
      "text/plain": "(506,)"
     },
     "metadata": {},
     "output_type": "execute_result",
     "execution_count": 54
    }
   ],
   "source": [
    "x = boston.data\n",
    "y = boston.target\n",
    "x.shape\n",
    "y.shape"
   ],
   "metadata": {
    "collapsed": false,
    "pycharm": {
     "name": "#%%\n",
     "is_executing": false
    }
   }
  },
  {
   "cell_type": "code",
   "execution_count": 55,
   "outputs": [],
   "source": [
    "X_train,X_test,y_train,y_test = train_test_split(x,y,test_size=0.3)"
   ],
   "metadata": {
    "collapsed": false,
    "pycharm": {
     "name": "#%%划分训练集与测试集\n",
     "is_executing": false
    }
   }
  },
  {
   "cell_type": "code",
   "execution_count": 56,
   "outputs": [],
   "source": [
    "# 求解当前Ein的函数\n",
    "def J(theta,x_b,y):\n",
    "    try:\n",
    "        return np.sum((y - x_b.dot(theta))**2)/len(x_b)\n",
    "    except:\n",
    "        return float('inf')"
   ],
   "metadata": {
    "collapsed": false,
    "pycharm": {
     "name": "#%%梯度下降求取误差函数\n",
     "is_executing": false
    }
   }
  },
  {
   "cell_type": "code",
   "execution_count": 57,
   "outputs": [],
   "source": [
    "def DJ(theta,x_b,y):\n",
    "    res = np.dot((np.dot(x_b,theta)-y).T,x_b)\n",
    "    return res * 2 /len(x_b)"
   ],
   "metadata": {
    "collapsed": false,
    "pycharm": {
     "name": "#%% 求解当前的梯度\n",
     "is_executing": false
    }
   }
  },
  {
   "cell_type": "code",
   "execution_count": 58,
   "outputs": [],
   "source": [
    "def gradient(x_b,y,initial_theta,ata,n_iters = 1e4,epsilon = 1e-8):\n",
    "    theta = initial_theta\n",
    "    i_iter = 0\n",
    "    while i_iter<n_iters:\n",
    "        gradient = DJ(theta,x_b,y)\n",
    "        last_theta = theta\n",
    "        theta = theta - ata * gradient\n",
    "        if abs(J(last_theta,x_b,y) - J(theta,x_b,y))<epsilon:\n",
    "            break\n",
    "        i_iter = i_iter+1\n",
    "    return theta"
   ],
   "metadata": {
    "collapsed": false,
    "pycharm": {
     "name": "#%%进行梯度下降的计算\n",
     "is_executing": false
    }
   }
  },
  {
   "cell_type": "code",
   "execution_count": 74,
   "outputs": [
    {
     "name": "stdout",
     "text": [
      "(354, 14)\n<class 'numpy.ndarray'>\n"
     ],
     "output_type": "stream"
    }
   ],
   "source": [
    "x_b = np.column_stack([np.ones((len(X_train),1)),X_train])\n",
    "print(x_b.shape)\n",
    "initial_theta = np.zeros(x_b.shape[1])\n",
    "initial_theta = np.zeros(x_b.shape[1])\n",
    "print(type(initial_theta))\n",
    "ata = 0.000001"
   ],
   "metadata": {
    "collapsed": false,
    "pycharm": {
     "name": "#%%\n",
     "is_executing": false
    }
   }
  },
  {
   "cell_type": "code",
   "execution_count": 75,
   "outputs": [
    {
     "name": "stdout",
     "text": [
      "Wall time: 247 ms\n"
     ],
     "output_type": "stream"
    }
   ],
   "source": [
    "%time theta = gradient(x_b,y_train,initial_theta = initial_theta,ata = ata)\n",
    "# theta"
   ],
   "metadata": {
    "collapsed": false,
    "pycharm": {
     "name": "#%%\n",
     "is_executing": false
    }
   }
  },
  {
   "cell_type": "code",
   "execution_count": 76,
   "outputs": [
    {
     "data": {
      "text/plain": "array([ 0.01072683, -0.07921827,  0.14500438, -0.08888346,  0.00773208,\n        0.00389011,  0.13001318,  0.08871265,  0.01397773,  0.02018006,\n        0.00177969,  0.07787533,  0.04727908, -0.33727083])"
     },
     "metadata": {},
     "output_type": "execute_result",
     "execution_count": 76
    }
   ],
   "source": [
    "theta"
   ],
   "metadata": {
    "collapsed": false,
    "pycharm": {
     "name": "#%%\n",
     "is_executing": false
    }
   }
  },
  {
   "cell_type": "code",
   "execution_count": null,
   "outputs": [],
   "source": [
    "\n"
   ],
   "metadata": {
    "collapsed": false,
    "pycharm": {
     "name": "#%% \n"
    }
   }
  },
  {
   "cell_type": "code",
   "execution_count": 65,
   "outputs": [],
   "source": [
    "from sklearn.preprocessing import StandardScaler\n",
    "standardScaler = StandardScaler()\n",
    "standardScaler.fit(X_train)\n",
    "x_train_stadard = standardScaler.transform(X_train)"
   ],
   "metadata": {
    "collapsed": false,
    "pycharm": {
     "name": "#%% 对数据进行归一化\n",
     "is_executing": false
    }
   }
  },
  {
   "cell_type": "code",
   "execution_count": 78,
   "outputs": [
    {
     "name": "stdout",
     "text": [
      "(354, 14)\n<class 'numpy.ndarray'>\n"
     ],
     "output_type": "stream"
    },
    {
     "data": {
      "text/plain": "array([ 0.01072683, -0.07921827,  0.14500438, -0.08888346,  0.00773208,\n        0.00389011,  0.13001318,  0.08871265,  0.01397773,  0.02018006,\n        0.00177969,  0.07787533,  0.04727908, -0.33727083])"
     },
     "metadata": {},
     "output_type": "execute_result",
     "execution_count": 78
    }
   ],
   "source": [
    "from sklearn.preprocessing import StandardScaler\n",
    "standardScaler = StandardScaler()\n",
    "x_b = np.column_stack([np.ones((len(X_train),1)),X_train])\n",
    "standardScaler.fit(x_b)\n",
    "x_train_stadard = standardScaler.transform(x_b)\n",
    "print(x_b.shape)\n",
    "initial_theta = np.zeros(x_b.shape[1])\n",
    "initial_theta = np.zeros(x_b.shape[1])\n",
    "print(type(initial_theta))\n",
    "ata = 0.000001\n",
    "theta = gradient(x_b,y_train,initial_theta = initial_theta,ata = ata)\n",
    "theta"
   ],
   "metadata": {
    "collapsed": false,
    "pycharm": {
     "name": "#%%\n",
     "is_executing": false
    }
   }
  },
  {
   "cell_type": "code",
   "execution_count": 79,
   "outputs": [],
   "source": [
    "def test(x_test,y_test,theta):\n",
    "    x_b = np.column_stack([np.ones((len(x_test),1)),x_test])\n",
    "    a = np.sum((x_b.dot(theta)-y_test)**2)\n",
    "    b = np.sum((y-np.mean(y_test))**2)\n",
    "    return 1-a/b"
   ],
   "metadata": {
    "collapsed": false,
    "pycharm": {
     "name": "#%%\n",
     "is_executing": false
    }
   }
  },
  {
   "cell_type": "code",
   "execution_count": 80,
   "outputs": [
    {
     "data": {
      "text/plain": "0.8280033002283818"
     },
     "metadata": {},
     "output_type": "execute_result",
     "execution_count": 80
    }
   ],
   "source": [
    "test(X_test,y_test,theta)\n"
   ],
   "metadata": {
    "collapsed": false,
    "pycharm": {
     "name": "#%%\n",
     "is_executing": false
    }
   }
  },
  {
   "cell_type": "code",
   "execution_count": null,
   "outputs": [],
   "source": [
    "\n"
   ],
   "metadata": {
    "collapsed": false,
    "pycharm": {
     "name": "#%%\n"
    }
   }
  }
 ],
 "metadata": {
  "language_info": {
   "codemirror_mode": {
    "name": "ipython",
    "version": 2
   },
   "file_extension": ".py",
   "mimetype": "text/x-python",
   "name": "python",
   "nbconvert_exporter": "python",
   "pygments_lexer": "ipython2",
   "version": "2.7.6"
  },
  "kernelspec": {
   "name": "python3",
   "language": "python",
   "display_name": "Python 3"
  },
  "pycharm": {
   "stem_cell": {
    "cell_type": "raw",
    "source": [],
    "metadata": {
     "collapsed": false
    }
   }
  }
 },
 "nbformat": 4,
 "nbformat_minor": 0
}