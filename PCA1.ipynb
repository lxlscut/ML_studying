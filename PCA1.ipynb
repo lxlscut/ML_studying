{
 "cells": [
  {
   "cell_type": "code",
   "execution_count": 412,
   "metadata": {
    "collapsed": true,
    "pycharm": {
     "is_executing": false
    }
   },
   "outputs": [],
   "source": [
    "import numpy as np\n",
    "import matplotlib.pyplot as plt"
   ]
  },
  {
   "cell_type": "code",
   "execution_count": 413,
   "outputs": [
    {
     "data": {
      "text/plain": "(100, 2)"
     },
     "metadata": {},
     "output_type": "execute_result",
     "execution_count": 413
    }
   ],
   "source": [
    "x = np.empty((100,2))\n",
    "x.shape"
   ],
   "metadata": {
    "collapsed": false,
    "pycharm": {
     "name": "#%%\n",
     "is_executing": false
    }
   }
  },
  {
   "cell_type": "code",
   "execution_count": 414,
   "outputs": [],
   "source": [
    "x[:,0] = np.random.uniform(0.,100.,size=100)\n",
    "x[:,1] = x[:,0]*3.+4.+np.random.normal(0.,10.,size=100)\n",
    "# x[:,1] = x[:,0]*3.+4."
   ],
   "metadata": {
    "collapsed": false,
    "pycharm": {
     "name": "#%%\n",
     "is_executing": false
    }
   }
  },
  {
   "cell_type": "code",
   "execution_count": 415,
   "outputs": [
    {
     "data": {
      "text/plain": "<Figure size 432x288 with 1 Axes>",
      "image/png": "[encoded data removed]"
     },
     "metadata": {
      "needs_background": "light"
     },
     "output_type": "display_data"
    }
   ],
   "source": [
    "plt.scatter(x[:,0],x[:,1])\n",
    "plt.show()"
   ],
   "metadata": {
    "collapsed": false,
    "pycharm": {
     "name": "#%%\n",
     "is_executing": false
    }
   }
  },
  {
   "cell_type": "code",
   "execution_count": 416,
   "outputs": [],
   "source": [
    "def getx(x):\n",
    "    return x - np.mean(x,axis=0)"
   ],
   "metadata": {
    "collapsed": false,
    "pycharm": {
     "name": "#%%\n",
     "is_executing": false
    }
   }
  },
  {
   "cell_type": "code",
   "execution_count": 417,
   "outputs": [
    {
     "data": {
      "text/plain": "100"
     },
     "metadata": {},
     "output_type": "execute_result",
     "execution_count": 417
    }
   ],
   "source": [
    "x = getx(x=x)\n",
    "len(x)"
   ],
   "metadata": {
    "collapsed": false,
    "pycharm": {
     "name": "#%%第一步：先取均值,完成dmean操作\n",
     "is_executing": false
    }
   }
  },
  {
   "cell_type": "code",
   "execution_count": 418,
   "outputs": [
    {
     "data": {
      "text/plain": "<Figure size 432x288 with 1 Axes>",
      "image/png": "[encoded data removed]"
     },
     "metadata": {
      "needs_background": "light"
     },
     "output_type": "display_data"
    }
   ],
   "source": [
    "plt.scatter(x[:,0],x[:,1])\n",
    "plt.show()"
   ],
   "metadata": {
    "collapsed": false,
    "pycharm": {
     "name": "#%%\n",
     "is_executing": false
    }
   }
  },
  {
   "cell_type": "code",
   "execution_count": 419,
   "outputs": [],
   "source": [
    "def distance(x,theta):\n",
    "    return np.sum(x.dot(theta)**2.)/len(x)"
   ],
   "metadata": {
    "collapsed": false,
    "pycharm": {
     "name": "#%% 计算当前的方差：\n",
     "is_executing": false
    }
   }
  },
  {
   "cell_type": "code",
   "execution_count": 420,
   "outputs": [],
   "source": [
    "def gradient_math(x,theta):\n",
    "    return 2.*x.T.dot(x.dot(theta))/len(x)"
   ],
   "metadata": {
    "collapsed": false,
    "pycharm": {
     "name": "#%% 计算当前的梯度（公式计算）\n",
     "is_executing": false
    }
   }
  },
  {
   "cell_type": "code",
   "execution_count": 421,
   "outputs": [],
   "source": [
    "# np.linalg.norm:求一个向量的模\n",
    "def direct(theta):\n",
    "    return theta/np.linalg.norm(theta)"
   ],
   "metadata": {
    "collapsed": false,
    "pycharm": {
     "name": "#%% 由于w为一个方向，对其进行归一化为单位向量\n",
     "is_executing": false
    }
   }
  },
  {
   "cell_type": "code",
   "execution_count": 422,
   "outputs": [],
   "source": [
    "def DJ_debug(theta,x,epsilon = 0.01):\n",
    "    res = np.empty(len(theta))\n",
    "    for i in range(len(theta)):              \n",
    "        theta1 = theta.copy()\n",
    "        theta1[i] += epsilon \n",
    "        theta2 = theta.copy()\n",
    "        theta2[i] -= epsilon\n",
    "        res[i] = (distance(theta = theta1,x = x)-distance(theta = theta2,x = x))/(2*epsilon)\n",
    "    return res\n",
    "\n"
   ],
   "metadata": {
    "collapsed": false,
    "pycharm": {
     "name": "#%% 传统的梯度计算方法：\n",
     "is_executing": false
    }
   }
  },
  {
   "cell_type": "code",
   "execution_count": 423,
   "outputs": [],
   "source": [
    "# 参数名 使用的梯度计算函数，数据x,需要的矩阵w，学习率eta,训练的轮数n_iters,误差值epsilon\n",
    "def gradient_asent(x,theta,eta,n_iters = 1e4,epsilon = 1e-8):\n",
    "    # plt.scatter(x[:,0],x[:,1])\n",
    "    theta_new = direct(theta)\n",
    "    n_iter = 0\n",
    "    while n_iter<n_iters:\n",
    "        last_theta = theta_new\n",
    "        gradient = gradient_math(x = x,theta = theta_new)\n",
    "        theta_new = theta_new + eta*gradient\n",
    "        theta_new = direct(theta_new)\n",
    "        if abs(distance(x,theta_new)-distance(x,last_theta))<epsilon:\n",
    "            break\n",
    "        n_iter += 1\n",
    "    return theta_new"
   ],
   "metadata": {
    "collapsed": false,
    "pycharm": {
     "name": "#%%  开始梯度上升操作：\n",
     "is_executing": false
    }
   }
  },
  {
   "cell_type": "code",
   "execution_count": 424,
   "outputs": [
    {
     "data": {
      "text/plain": "array([0.31445556, 0.9492722 ])"
     },
     "metadata": {},
     "output_type": "execute_result",
     "execution_count": 424
    }
   ],
   "source": [
    "eta = 0.01\n",
    "initial_theta = np.random.random(x.shape[1])\n",
    "theta = gradient_asent(x=x,theta=initial_theta,eta = eta)\n",
    "theta"
   ],
   "metadata": {
    "collapsed": false,
    "pycharm": {
     "name": "#%% 计算开始\n",
     "is_executing": false
    }
   }
  },
  {
   "cell_type": "code",
   "execution_count": 425,
   "outputs": [
    {
     "data": {
      "text/plain": "<Figure size 432x288 with 1 Axes>",
      "image/png": "[encoded data removed]"
     },
     "metadata": {
      "needs_background": "light"
     },
     "output_type": "display_data"
    }
   ],
   "source": [
    "plt.scatter(x[:,0],x[:,1])\n",
    "plt.plot([0,theta[0]*50],[0,theta[1]*50],color = 'red')\n",
    "plt.show()"
   ],
   "metadata": {
    "collapsed": false,
    "pycharm": {
     "name": "#%%\n",
     "is_executing": false
    }
   }
  },
  {
   "cell_type": "code",
   "execution_count": 426,
   "outputs": [
    {
     "data": {
      "text/plain": "array([0.31445556, 0.9492722 ])"
     },
     "metadata": {},
     "output_type": "execute_result",
     "execution_count": 426
    }
   ],
   "source": [
    "theta"
   ],
   "metadata": {
    "collapsed": false,
    "pycharm": {
     "name": "#%%\n",
     "is_executing": false
    }
   }
  },
  {
   "cell_type": "code",
   "execution_count": 427,
   "outputs": [
    {
     "data": {
      "text/plain": "<Figure size 432x288 with 1 Axes>",
      "image/png": "[encoded data removed]"
     },
     "metadata": {
      "needs_background": "light"
     },
     "output_type": "display_data"
    }
   ],
   "source": [
    "x2 = x-x.dot(theta).reshape(-1,1)*theta\n",
    "plt.scatter(x2[:,0],x2[:,1])\n",
    "plt.show()"
   ],
   "metadata": {
    "collapsed": false,
    "pycharm": {
     "name": "#%%\n",
     "is_executing": false
    }
   }
  },
  {
   "cell_type": "code",
   "execution_count": 428,
   "outputs": [
    {
     "data": {
      "text/plain": "array([ 0.94928303, -0.31442286])"
     },
     "metadata": {},
     "output_type": "execute_result",
     "execution_count": 428
    }
   ],
   "source": [
    "eta = 0.01\n",
    "initial_theta1 = np.random.random(x.shape[1])\n",
    "w2 = gradient_asent(x=x2,theta=initial_theta1,eta = eta)\n",
    "w2"
   ],
   "metadata": {
    "collapsed": false,
    "pycharm": {
     "name": "#%% 计算开始\n",
     "is_executing": false
    }
   }
  },
  {
   "cell_type": "code",
   "execution_count": 431,
   "outputs": [
    {
     "data": {
      "text/plain": "<Figure size 432x288 with 1 Axes>",
      "image/png": "[encoded data removed]"
     },
     "metadata": {
      "needs_background": "light"
     },
     "output_type": "display_data"
    },
    {
     "data": {
      "text/plain": "3.444893617271516e-05"
     },
     "metadata": {},
     "output_type": "execute_result",
     "execution_count": 431
    }
   ],
   "source": [
    "plt.scatter(x2[:,0],x2[:,1])\n",
    "plt.plot([0,w2[0]*50],[0,w2[1]*50])\n",
    "plt.show()\n",
    "y = theta.dot(w2)\n",
    "y"
   ],
   "metadata": {
    "collapsed": false,
    "pycharm": {
     "name": "#%%\n",
     "is_executing": false
    }
   }
  },
  {
   "cell_type": "code",
   "execution_count": 345,
   "outputs": [],
   "source": [],
   "metadata": {
    "collapsed": false,
    "pycharm": {
     "name": "#%%\n",
     "is_executing": false
    }
   }
  },
  {
   "cell_type": "code",
   "execution_count": 287,
   "outputs": [],
   "source": [],
   "metadata": {
    "collapsed": false,
    "pycharm": {
     "name": "#%%\n",
     "is_executing": false
    }
   }
  },
  {
   "cell_type": "code",
   "execution_count": null,
   "outputs": [],
   "source": [
    "\n"
   ],
   "metadata": {
    "collapsed": false,
    "pycharm": {
     "name": "#%%\n"
    }
   }
  }
 ],
 "metadata": {
  "language_info": {
   "codemirror_mode": {
    "name": "ipython",
    "version": 2
   },
   "file_extension": ".py",
   "mimetype": "text/x-python",
   "name": "python",
   "nbconvert_exporter": "python",
   "pygments_lexer": "ipython2",
   "version": "2.7.6"
  },
  "kernelspec": {
   "name": "python3",
   "language": "python",
   "display_name": "Python 3"
  },
  "pycharm": {
   "stem_cell": {
    "cell_type": "raw",
    "source": [],
    "metadata": {
     "collapsed": false
    }
   }
  }
 },
 "nbformat": 4,
 "nbformat_minor": 0
}