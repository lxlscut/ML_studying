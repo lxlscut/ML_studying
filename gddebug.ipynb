{
 "cells": [
  {
   "cell_type": "code",
   "execution_count": 26,
   "metadata": {
    "collapsed": true,
    "pycharm": {
     "is_executing": false
    }
   },
   "outputs": [],
   "source": [
    "import numpy as np"
   ]
  },
  {
   "cell_type": "code",
   "execution_count": 27,
   "outputs": [
    {
     "data": {
      "text/plain": "(1000, 10)"
     },
     "metadata": {},
     "output_type": "execute_result",
     "execution_count": 27
    }
   ],
   "source": [
    "np.random.seed(666)\n",
    "x = np.random.random(size=(1000,10))\n",
    "theta = np.arange(1,12,dtype = float)\n",
    "x.shape"
   ],
   "metadata": {
    "collapsed": false,
    "pycharm": {
     "name": "#%%创建x与y的值\n",
     "is_executing": false
    }
   }
  },
  {
   "cell_type": "code",
   "execution_count": 28,
   "outputs": [],
   "source": [
    "x_b =  np.column_stack([np.ones((len(x),1)),x])\n",
    "y = x_b.dot(theta) + np.random.normal(size=1000)"
   ],
   "metadata": {
    "collapsed": false,
    "pycharm": {
     "name": "#%%\n",
     "is_executing": false
    }
   }
  },
  {
   "cell_type": "code",
   "execution_count": 29,
   "outputs": [],
   "source": [
    "def J(theta,x_b,y):\n",
    "    try:\n",
    "        return np.sum((y - x_b.dot(theta))**2)/len(y)\n",
    "    except:\n",
    "        return float('inf')"
   ],
   "metadata": {
    "collapsed": false,
    "pycharm": {
     "name": "#%% 定义计算误差的函数：\n",
     "is_executing": false
    }
   }
  },
  {
   "cell_type": "code",
   "execution_count": 30,
   "outputs": [],
   "source": [
    "def DJ(theta,x_b,y):\n",
    "    return x_b.T.dot(x_b.dot(theta)-y)*2./len(y) "
   ],
   "metadata": {
    "collapsed": false,
    "pycharm": {
     "name": "#%% 定义计算梯度的函数\n",
     "is_executing": false
    }
   }
  },
  {
   "cell_type": "code",
   "execution_count": 31,
   "outputs": [],
   "source": [
    "def gradient_descent(dj,x_b,y,initial_theta,eta,n_iters = 1e4,epsilon = 1e-6):\n",
    "    theta = initial_theta\n",
    "    cur_iter = 0\n",
    "    while cur_iter<n_iters:\n",
    "        gradient = dj(theta,x_b,y)\n",
    "        last_theta = theta\n",
    "        theta = theta-eta*gradient\n",
    "        if (abs(J(theta,x_b,y)-J(last_theta,x_b,y))<epsilon):\n",
    "            break\n",
    "        cur_iter += 1\n",
    "    return theta"
   ],
   "metadata": {
    "collapsed": false,
    "pycharm": {
     "name": "#%%进行梯度下降\n",
     "is_executing": false
    }
   }
  },
  {
   "cell_type": "code",
   "execution_count": 32,
   "outputs": [],
   "source": [
    "def DJ_debug(theta,x_b,y,epsilon = 0.01):\n",
    "    res = np.empty(len(theta))\n",
    "    for i in range(0,x_b.shape[1]):\n",
    "        theta1 = theta.copy()\n",
    "        theta1[i] = theta1[i] + epsilon\n",
    "        theta2 = theta.copy()\n",
    "        theta2[i] = theta2[i] - epsilon\n",
    "        res[i] = (J(theta1[i],x_b,y)-J(theta2[i],x_b,y))/(2*epsilon)\n",
    "    return res"
   ],
   "metadata": {
    "collapsed": false,
    "pycharm": {
     "name": "#%%进行梯度debug\n",
     "is_executing": false
    }
   }
  },
  {
   "cell_type": "code",
   "execution_count": 33,
   "outputs": [
    {
     "data": {
      "text/plain": "11"
     },
     "metadata": {},
     "output_type": "execute_result",
     "execution_count": 33
    }
   ],
   "source": [
    "# len(theta)\n",
    "x_b.shape[1]"
   ],
   "metadata": {
    "collapsed": false,
    "pycharm": {
     "name": "#%%\n",
     "is_executing": false
    }
   }
  },
  {
   "cell_type": "code",
   "execution_count": null,
   "outputs": [],
   "source": [
    "initial_theta = np.zeros((len(theta),1))\n",
    "eta = 0.01\n",
    "theta1 = gradient_descent(dj=DJ,x_b = x_b,y = y,initial_theta = initial_theta,eta = eta)\n"
   ],
   "metadata": {
    "collapsed": false,
    "pycharm": {
     "name": "#%%\n",
     "is_executing": true
    }
   }
  },
  {
   "cell_type": "code",
   "execution_count": null,
   "outputs": [],
   "source": [
    "theta1"
   ],
   "metadata": {
    "collapsed": false,
    "pycharm": {
     "name": "#%%\n",
     "is_executing": true
    }
   }
  },
  {
   "cell_type": "code",
   "execution_count": null,
   "outputs": [],
   "source": [
    "\n"
   ],
   "metadata": {
    "collapsed": false,
    "pycharm": {
     "name": "#%%\n",
     "is_executing": true
    }
   }
  }
 ],
 "metadata": {
  "language_info": {
   "codemirror_mode": {
    "name": "ipython",
    "version": 2
   },
   "file_extension": ".py",
   "mimetype": "text/x-python",
   "name": "python",
   "nbconvert_exporter": "python",
   "pygments_lexer": "ipython2",
   "version": "2.7.6"
  },
  "kernelspec": {
   "name": "python3",
   "language": "python",
   "display_name": "Python 3"
  },
  "pycharm": {
   "stem_cell": {
    "cell_type": "raw",
    "source": [],
    "metadata": {
     "collapsed": false
    }
   }
  }
 },
 "nbformat": 4,
 "nbformat_minor": 0
}