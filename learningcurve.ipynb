{
 "cells": [
  {
   "cell_type": "code",
   "execution_count": 57,
   "metadata": {
    "collapsed": true,
    "pycharm": {
     "is_executing": false
    }
   },
   "outputs": [],
   "source": [
    "import matplotlib.pyplot as plt\n",
    "import numpy as np\n",
    "from sklearn.preprocessing import PolynomialFeatures\n",
    "from sklearn.linear_model import LinearRegression\n",
    "from sklearn.pipeline import Pipeline\n",
    "from sklearn.preprocessing import StandardScaler\n",
    "from  sklearn.metrics import mean_squared_error"
   ]
  },
  {
   "cell_type": "code",
   "execution_count": 58,
   "outputs": [],
   "source": [
    "def poly_reg(degree):\n",
    "    poly_regr = Pipeline([(\"features\",PolynomialFeatures(degree=degree)),\n",
    "                         (\"scaler\",StandardScaler()),\n",
    "                         (\"regression\",LinearRegression())])\n",
    "    return poly_regr"
   ],
   "metadata": {
    "collapsed": false,
    "pycharm": {
     "name": "#%%\n",
     "is_executing": false
    }
   }
  },
  {
   "cell_type": "code",
   "execution_count": 59,
   "outputs": [],
   "source": [
    "np.random.seed(600)\n",
    "x = np.random.uniform(-3,3,size=100).reshape(-1,1)\n",
    "y = 0.5*x**2 + x + 2 + np.random.normal(0,1,size=100).reshape(-1,1)"
   ],
   "metadata": {
    "collapsed": false,
    "pycharm": {
     "name": "#%%\n",
     "is_executing": false
    }
   }
  },
  {
   "cell_type": "code",
   "execution_count": 60,
   "outputs": [
    {
     "data": {
      "text/plain": "(25, 1)"
     },
     "metadata": {},
     "output_type": "execute_result",
     "execution_count": 60
    }
   ],
   "source": [
    "from sklearn.model_selection import train_test_split\n",
    "X_train,X_test,y_train,y_test=train_test_split(x,y,test_size=0.25)\n",
    "X_train.shape\n",
    "X_test.shape"
   ],
   "metadata": {
    "collapsed": false,
    "pycharm": {
     "name": "#%% 将数据分离为训练集与数据集\n",
     "is_executing": false
    }
   }
  },
  {
   "cell_type": "code",
   "execution_count": 61,
   "outputs": [],
   "source": [
    "def learningcurve(fuction,X_train,X_test,y_train,y_test):\n",
    "    train_error = []\n",
    "    test_error = []\n",
    "    for i in range(1,len(X_train)+1):\n",
    "        lin_reg = fuction\n",
    "        lin_reg.fit(X_train[:i],y_train[:i])\n",
    "        y_predict = fuction.predict(X_train[:i])\n",
    "        train_error.append(mean_squared_error(y_predict,y_train[:i]))\n",
    "        y_predict_test = fuction.predict(X_test)\n",
    "        test_error.append(mean_squared_error(y_test,y_predict_test))\n",
    "    return train_error,test_error"
   ],
   "metadata": {
    "collapsed": false,
    "pycharm": {
     "name": "#%%\n",
     "is_executing": false
    }
   }
  },
  {
   "cell_type": "code",
   "execution_count": 62,
   "outputs": [],
   "source": [
    "# train_error = []\n",
    "# test_error = []\n",
    "# for i in range(1,len(X_train)+1):\n",
    "#     lin_reg = LinearRegression()\n",
    "#     lin_reg.fit(X_train[:i],y_train[:i])\n",
    "#     y_predict = lin_reg.predict(X_train[:i])\n",
    "#     train_error.append(mean_squared_error(y_predict,y_train[:i]))\n",
    "#     y_predict_test = lin_reg.predict(X_test)\n",
    "#     test_error.append(mean_squared_error(y_test,y_predict_test))"
   ],
   "metadata": {
    "collapsed": false,
    "pycharm": {
     "name": "#%%\n",
     "is_executing": false
    }
   }
  },
  {
   "cell_type": "code",
   "execution_count": 63,
   "outputs": [],
   "source": [
    "poly2 = poly_reg(degree=2)\n",
    "train_error,test_error = learningcurve(poly2,X_train=X_train,X_test=X_test,y_train=y_train,y_test=y_test)"
   ],
   "metadata": {
    "collapsed": false,
    "pycharm": {
     "name": "#%%\n",
     "is_executing": false
    }
   }
  },
  {
   "cell_type": "code",
   "execution_count": 69,
   "outputs": [],
   "source": [
    "poly2 = poly_reg(degree=20)\n",
    "train_error,test_error = learningcurve(poly2,X_train=X_train,X_test=X_test,y_train=y_train,y_test=y_test)\n"
   ],
   "metadata": {
    "collapsed": false,
    "pycharm": {
     "name": "#%%\n",
     "is_executing": false
    }
   }
  },
  {
   "cell_type": "code",
   "execution_count": 70,
   "outputs": [
    {
     "data": {
      "text/plain": "<Figure size 432x288 with 1 Axes>",
      "image/png": "[encoded data removed]"
     },
     "metadata": {
      "needs_background": "light"
     },
     "output_type": "display_data"
    }
   ],
   "source": [
    "plt.plot([i for i in range(1,len(X_train)+1)],np.sqrt(train_error),label = \"train_error\")\n",
    "plt.plot([i for i in range(1,len(X_train)+1)],np.sqrt(test_error),label = \"test_error\")\n",
    "plt.axis([0,76,0,3])\n",
    "plt.legend()\n",
    "plt.show()"
   ],
   "metadata": {
    "collapsed": false,
    "pycharm": {
     "name": "#%%\n",
     "is_executing": false
    }
   }
  },
  {
   "cell_type": "code",
   "execution_count": null,
   "outputs": [],
   "source": [
    "\n"
   ],
   "metadata": {
    "collapsed": false,
    "pycharm": {
     "name": "#%%\n"
    }
   }
  }
 ],
 "metadata": {
  "language_info": {
   "codemirror_mode": {
    "name": "ipython",
    "version": 2
   },
   "file_extension": ".py",
   "mimetype": "text/x-python",
   "name": "python",
   "nbconvert_exporter": "python",
   "pygments_lexer": "ipython2",
   "version": "2.7.6"
  },
  "kernelspec": {
   "name": "python3",
   "language": "python",
   "display_name": "Python 3"
  },
  "pycharm": {
   "stem_cell": {
    "cell_type": "raw",
    "source": [],
    "metadata": {
     "collapsed": false
    }
   }
  }
 },
 "nbformat": 4,
 "nbformat_minor": 0
}