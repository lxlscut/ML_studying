{
 "cells": [
  {
   "cell_type": "code",
   "execution_count": 1,
   "metadata": {
    "collapsed": true,
    "pycharm": {
     "is_executing": false
    }
   },
   "outputs": [],
   "source": [
    "import numpy as np\n",
    "import matplotlib.pyplot as plt"
   ]
  },
  {
   "cell_type": "code",
   "execution_count": 2,
   "outputs": [],
   "source": [
    "m = 1000\n",
    "x = np.random.normal(size=m)\n",
    "X = x.reshape(-1,1)\n",
    "y = 4.*x +3.+ np.random.normal(0,3,size=m)"
   ],
   "metadata": {
    "collapsed": false,
    "pycharm": {
     "name": "#%%创建数据\n",
     "is_executing": false
    }
   }
  },
  {
   "cell_type": "code",
   "execution_count": 3,
   "outputs": [],
   "source": [
    "def J(theta,x_b,y):\n",
    "    try:\n",
    "        return np.sum((y - x_b.dot(theta))**2)/len(y)\n",
    "    except:\n",
    "        return float('inf')"
   ],
   "metadata": {
    "collapsed": false,
    "pycharm": {
     "name": "#%% 定义计算误差的函数：\n",
     "is_executing": false
    }
   }
  },
  {
   "cell_type": "code",
   "execution_count": 4,
   "outputs": [],
   "source": [
    "def DJ(theta,x_b,y):\n",
    "    return x_b.T.dot(x_b.dot(theta)-y)*2./len(y) "
   ],
   "metadata": {
    "collapsed": false,
    "pycharm": {
     "name": "#%% 定义计算梯度的函数\n",
     "is_executing": false
    }
   }
  },
  {
   "cell_type": "code",
   "execution_count": 5,
   "outputs": [],
   "source": [
    "def gradient_descent(x_b,y,initial_theta,eta,n_iters = 1e4,epsilon = 1e-6):\n",
    "    theta = initial_theta\n",
    "    cur_iter = 0\n",
    "    while cur_iter<n_iters:\n",
    "        gradient = DJ(theta,x_b,y)\n",
    "        last_theta = theta\n",
    "        theta = theta-eta*gradient\n",
    "        if (abs(J(theta,x_b,y)-J(last_theta,x_b,y))<epsilon):\n",
    "            break\n",
    "        cur_iter += 1\n",
    "    return theta\n"
   ],
   "metadata": {
    "collapsed": false,
    "pycharm": {
     "name": "#%%进行梯度下降\n",
     "is_executing": false
    }
   }
  },
  {
   "cell_type": "code",
   "execution_count": 7,
   "outputs": [
    {
     "name": "stdout",
     "text": [
      "Wall time: 11 ms\n"
     ],
     "output_type": "stream"
    }
   ],
   "source": [
    "%%time\n",
    "X_b = np.column_stack([np.ones((len(X),1)),X])\n",
    "initial_theta = np.zeros(X_b.shape[1])\n",
    "eta = 0.01\n",
    "theta = gradient_descent(x_b=X_b,y=y,initial_theta = initial_theta,eta = eta)"
   ],
   "metadata": {
    "collapsed": false,
    "pycharm": {
     "name": "#%%\n",
     "is_executing": false
    }
   }
  },
  {
   "cell_type": "code",
   "execution_count": 8,
   "outputs": [
    {
     "data": {
      "text/plain": "array([2.95736923, 3.98533016])"
     },
     "metadata": {},
     "output_type": "execute_result",
     "execution_count": 8
    }
   ],
   "source": [
    "theta\n",
    "\n"
   ],
   "metadata": {
    "collapsed": false,
    "pycharm": {
     "name": "#%%\n",
     "is_executing": false
    }
   }
  },
  {
   "cell_type": "code",
   "execution_count": 10,
   "outputs": [],
   "source": [
    "def dj_sgd(theta,x_b_i,y_i):\n",
    "    return x_b_i.T.dot(x_b_i.dot(theta)-y_i)*2."
   ],
   "metadata": {
    "collapsed": false,
    "pycharm": {
     "name": "#%%\n",
     "is_executing": false
    }
   }
  },
  {
   "cell_type": "code",
   "execution_count": 25,
   "outputs": [],
   "source": [
    "def sgd(x_b,y,initial_theta,n_iters):\n",
    "    t0 = 5\n",
    "    t1 = 50\n",
    "    def learning_rate(t):\n",
    "        return t0/(t+t1)\n",
    "    theta = initial_theta\n",
    "    for cur_iter in range(n_iters):\n",
    "        rand_i = np.random.randint(len(x_b))\n",
    "        gradient = dj_sgd(theta,x_b[rand_i],y[rand_i])\n",
    "        theta = theta - learning_rate(cur_iter)*gradient\n",
    "    return theta\n",
    "        "
   ],
   "metadata": {
    "collapsed": false,
    "pycharm": {
     "name": "#%%其中t是第多少轮，使得学习率逐渐减小\n",
     "is_executing": false
    }
   }
  },
  {
   "cell_type": "code",
   "execution_count": 31,
   "outputs": [
    {
     "name": "stdout",
     "text": [
      "Wall time: 6.98 ms\n"
     ],
     "output_type": "stream"
    }
   ],
   "source": [
    "%%time \n",
    "x_b = np.column_stack([np.ones((len(X),1)),X])\n",
    "initial_theta = np.zeros(x_b.shape[1])\n",
    "theta = sgd(x_b= x_b,y=y,initial_theta = initial_theta,n_iters=1000)\n",
    "\n"
   ],
   "metadata": {
    "collapsed": false,
    "pycharm": {
     "name": "#%% 测试随机梯度下降法\n",
     "is_executing": false
    }
   }
  },
  {
   "cell_type": "code",
   "execution_count": 32,
   "outputs": [
    {
     "data": {
      "text/plain": "array([2.99964717, 4.10542437])"
     },
     "metadata": {},
     "output_type": "execute_result",
     "execution_count": 32
    }
   ],
   "source": [
    "theta"
   ],
   "metadata": {
    "collapsed": false,
    "pycharm": {
     "name": "#%%\n",
     "is_executing": false
    }
   }
  },
  {
   "cell_type": "code",
   "execution_count": null,
   "outputs": [],
   "source": [
    "\n"
   ],
   "metadata": {
    "collapsed": false,
    "pycharm": {
     "name": "#%%\n"
    }
   }
  }
 ],
 "metadata": {
  "language_info": {
   "codemirror_mode": {
    "name": "ipython",
    "version": 2
   },
   "file_extension": ".py",
   "mimetype": "text/x-python",
   "name": "python",
   "nbconvert_exporter": "python",
   "pygments_lexer": "ipython2",
   "version": "2.7.6"
  },
  "kernelspec": {
   "name": "python3",
   "language": "python",
   "display_name": "Python 3"
  },
  "pycharm": {
   "stem_cell": {
    "cell_type": "raw",
    "source": [],
    "metadata": {
     "collapsed": false
    }
   }
  }
 },
 "nbformat": 4,
 "nbformat_minor": 0
}